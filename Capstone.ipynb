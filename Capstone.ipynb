{
  "nbformat": 4,
  "nbformat_minor": 0,
  "metadata": {
    "colab": {
      "provenance": []
    },
    "kernelspec": {
      "name": "python3",
      "display_name": "Python 3"
    },
    "language_info": {
      "name": "python"
    }
  },
  "cells": [
    {
      "cell_type": "code",
      "execution_count": null,
      "metadata": {
        "id": "4j2EJ6YnXOSD"
      },
      "outputs": [],
      "source": [
        "# 1. Importing packages\n",
        "import pandas as pd\n",
        "import yfinance as yf\n",
        "import statsmodels.formula.api as smf\n",
        "import statsmodels.api as sm\n",
        "from pandas_datareader import DataReader\n",
        "import matplotlib.pyplot as plt\n",
        "import seaborn as sns\n",
        "import numpy as np\n",
        "import warnings\n",
        "# from linearmodels.asset_pricing import LinearFactorModel\n",
        "warnings.filterwarnings('ignore')"
      ]
    },
    {
      "cell_type": "code",
      "source": [
        "# 2. Loading dataset\n",
        "# top 30 U.S. companies by market capitalization\n",
        "tickers = ['AAPL', 'MSFT', 'GOOG', 'AMZN', 'BRK-A', 'NVDA', 'V', 'JPM', 'UNH',\n",
        "           'JNJ', 'BAC', 'WMT', 'PG', 'HD', 'MA', 'XOM', 'PFE', 'DIS', 'CVX',\n",
        "           'KO', 'AVGO', 'PEP', 'CSCO', 'WFC', 'COST', 'LLY', 'ADBE']\n",
        "\n",
        "# Dates\n",
        "start_date = '2013-01-01'\n",
        "end_date = '2023-01-01'"
      ],
      "metadata": {
        "id": "TRyqGME-XX26"
      },
      "execution_count": null,
      "outputs": []
    }
  ]
}