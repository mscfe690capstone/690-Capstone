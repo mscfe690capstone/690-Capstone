# 1. Importing packages
import pandas as pd
import yfinance as yf
import statsmodels.formula.api as smf
import statsmodels.api as sm
from pandas_datareader import DataReader
import matplotlib.pyplot as plt
import seaborn as sns
import numpy as np
import warnings
# from linearmodels.asset_pricing import LinearFactorModel
warnings.filterwarnings('ignore')

# 2. Loading dataset
# top 30 U.S. companies by market capitalization
tickers = ['AAPL', 'MSFT', 'GOOG', 'AMZN', 'BRK-A', 'NVDA', 'V', 'JPM', 'UNH', 
           'JNJ', 'BAC', 'WMT', 'PG', 'HD', 'MA', 'XOM', 'PFE', 'DIS', 'CVX', 
           'KO', 'AVGO', 'PEP', 'CSCO', 'WFC', 'COST', 'LLY', 'ADBE']

# Dates
start_date = '2013-01-01'
end_date = '2023-01-01'
